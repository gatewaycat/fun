{
 "cells": [
  {
   "cell_type": "markdown",
   "metadata": {},
   "source": [
    "# Implicit Bias v Demographics"
   ]
  },
  {
   "cell_type": "code",
   "execution_count": 1,
   "metadata": {},
   "outputs": [],
   "source": [
    "# ! pip install pyreadstat\n",
    "\n",
    "import bs4\n",
    "from IPython.core.interactiveshell import InteractiveShell\n",
    "import numpy as np\n",
    "import pandas as pd\n",
    "import requests\n",
    "\n",
    "InteractiveShell.ast_node_interactivity = \"all\""
   ]
  },
  {
   "cell_type": "markdown",
   "metadata": {},
   "source": [
    "### _0. Download bias dataset to `iat.sav` and pickle to `iat.pkl` (already done)_"
   ]
  },
  {
   "cell_type": "markdown",
   "metadata": {},
   "source": [
    "_This step is already done for you; no need to do it again._\n",
    "\n",
    "Grab dataset `iat.sav` from 2018 from Harvard Project Implicit\n",
    " \n",
    "    ! curl -L https://osf.io/z4bd2/download > iat.sav\n",
    "\n",
    "Grab documentation for dataset columns `iat.xlsx`\n",
    "\n",
    "    ! curl -L https://osf.io/szwuf/download > iat.xlsx\n",
    "    pd.read_excel('iat.xlsx')\n",
    "\n",
    "See also the Harvard Project Implicit Dataset homepage https://osf.io/y9hiq/  \n",
    "and this [Blog post](https://app-prod-03.implicit.harvard.edu/implicit/user/jaxt/blogposts/piblogpost005.html)\n",
    "\n",
    "Then we convert SPSS `iat.sav` to pickle `iat.pkl`  \n",
    "It takes ~1h to read in the sav file\n",
    "\n",
    "    df = pd.read_spss('iat.sav')\n",
    "    df.to_pickle('iat.pkl')"
   ]
  },
  {
   "cell_type": "markdown",
   "metadata": {},
   "source": [
    "### 1. Unpickle and clean bias dataset to `Iat`"
   ]
  },
  {
   "cell_type": "code",
   "execution_count": 2,
   "metadata": {
    "jupyter": {
     "source_hidden": true
    }
   },
   "outputs": [
    {
     "data": {
      "text/html": [
       "<div>\n",
       "<style scoped>\n",
       "    .dataframe tbody tr th:only-of-type {\n",
       "        vertical-align: middle;\n",
       "    }\n",
       "\n",
       "    .dataframe tbody tr th {\n",
       "        vertical-align: top;\n",
       "    }\n",
       "\n",
       "    .dataframe thead th {\n",
       "        text-align: right;\n",
       "    }\n",
       "</style>\n",
       "<table border=\"1\" class=\"dataframe\">\n",
       "  <thead>\n",
       "    <tr style=\"text-align: right;\">\n",
       "      <th></th>\n",
       "      <th>State</th>\n",
       "      <th>Iat</th>\n",
       "    </tr>\n",
       "  </thead>\n",
       "  <tbody>\n",
       "    <tr>\n",
       "      <td>0</td>\n",
       "      <td></td>\n",
       "      <td>0.349243</td>\n",
       "    </tr>\n",
       "    <tr>\n",
       "      <td>1</td>\n",
       "      <td>Alabama</td>\n",
       "      <td>0.372316</td>\n",
       "    </tr>\n",
       "    <tr>\n",
       "      <td>2</td>\n",
       "      <td>Alaska</td>\n",
       "      <td>0.330576</td>\n",
       "    </tr>\n",
       "    <tr>\n",
       "      <td>3</td>\n",
       "      <td>Arizona</td>\n",
       "      <td>0.349994</td>\n",
       "    </tr>\n",
       "    <tr>\n",
       "      <td>4</td>\n",
       "      <td>Arkansas</td>\n",
       "      <td>0.346702</td>\n",
       "    </tr>\n",
       "  </tbody>\n",
       "</table>\n",
       "</div>"
      ],
      "text/plain": [
       "      State       Iat\n",
       "0            0.349243\n",
       "1   Alabama  0.372316\n",
       "2    Alaska  0.330576\n",
       "3   Arizona  0.349994\n",
       "4  Arkansas  0.346702"
      ]
     },
     "execution_count": 2,
     "metadata": {},
     "output_type": "execute_result"
    }
   ],
   "source": [
    "Iat = pd.read_pickle('iat.pkl')[['raceomb_002', 'ethnicityomb', 'D_biep.White_Good_all', 'STATE']]\n",
    "Iat.columns = ['Race','Ethnicity','Iat','State']\n",
    "\n",
    "# Iat.head()\n",
    "# Iat.describe(include='all').T\n",
    "\n",
    "Iat = Iat[(Iat.Race=='White') & (Iat.Ethnicity=='Not Hispanic or Latino')]\n",
    "Iat = Iat[['State','Iat']]\n",
    "\n",
    "# Iat.head()\n",
    "# np.array(Iat.State.unique())\n",
    "\n",
    "Iat = pd.pivot_table(Iat,index='State',aggfunc=np.mean)\n",
    "Iat = Iat.reset_index()\n",
    "\n",
    "Iat.head()"
   ]
  },
  {
   "cell_type": "markdown",
   "metadata": {},
   "source": [
    "### 2. Scrape and clean demograpic data to `df.Percent_Black`"
   ]
  },
  {
   "cell_type": "code",
   "execution_count": 3,
   "metadata": {
    "jupyter": {
     "source_hidden": true
    }
   },
   "outputs": [
    {
     "data": {
      "text/html": [
       "<div>\n",
       "<style scoped>\n",
       "    .dataframe tbody tr th:only-of-type {\n",
       "        vertical-align: middle;\n",
       "    }\n",
       "\n",
       "    .dataframe tbody tr th {\n",
       "        vertical-align: top;\n",
       "    }\n",
       "\n",
       "    .dataframe thead th {\n",
       "        text-align: right;\n",
       "    }\n",
       "</style>\n",
       "<table border=\"1\" class=\"dataframe\">\n",
       "  <thead>\n",
       "    <tr style=\"text-align: right;\">\n",
       "      <th></th>\n",
       "      <th>0</th>\n",
       "      <th>1</th>\n",
       "      <th>2</th>\n",
       "      <th>3</th>\n",
       "      <th>4</th>\n",
       "      <th>5</th>\n",
       "      <th>6</th>\n",
       "      <th>7</th>\n",
       "      <th>8</th>\n",
       "      <th>9</th>\n",
       "    </tr>\n",
       "  </thead>\n",
       "  <tbody>\n",
       "    <tr>\n",
       "      <td>State</td>\n",
       "      <td>Alabama</td>\n",
       "      <td>Alaska</td>\n",
       "      <td>Arizona</td>\n",
       "      <td>Arkansas</td>\n",
       "      <td>California</td>\n",
       "      <td>Colorado</td>\n",
       "      <td>Connecticut</td>\n",
       "      <td>Delaware</td>\n",
       "      <td>District of Columbia</td>\n",
       "      <td>Florida</td>\n",
       "    </tr>\n",
       "    <tr>\n",
       "      <td>USPS</td>\n",
       "      <td>AL</td>\n",
       "      <td>AK</td>\n",
       "      <td>AZ</td>\n",
       "      <td>AR</td>\n",
       "      <td>CA</td>\n",
       "      <td>CO</td>\n",
       "      <td>CT</td>\n",
       "      <td>DE</td>\n",
       "      <td>DC</td>\n",
       "      <td>FL</td>\n",
       "    </tr>\n",
       "    <tr>\n",
       "      <td>Percent_Black</td>\n",
       "      <td>26.38</td>\n",
       "      <td>4.27</td>\n",
       "      <td>4.16</td>\n",
       "      <td>15.76</td>\n",
       "      <td>6.67</td>\n",
       "      <td>4.28</td>\n",
       "      <td>10.34</td>\n",
       "      <td>20.95</td>\n",
       "      <td>50.08</td>\n",
       "      <td>15.91</td>\n",
       "    </tr>\n",
       "  </tbody>\n",
       "</table>\n",
       "</div>"
      ],
      "text/plain": [
       "                     0       1        2         3           4         5  \\\n",
       "State          Alabama  Alaska  Arizona  Arkansas  California  Colorado   \n",
       "USPS                AL      AK       AZ        AR          CA        CO   \n",
       "Percent_Black    26.38    4.27     4.16     15.76        6.67      4.28   \n",
       "\n",
       "                         6         7                     8        9  \n",
       "State          Connecticut  Delaware  District of Columbia  Florida  \n",
       "USPS                    CT        DE                    DC       FL  \n",
       "Percent_Black        10.34     20.95                 50.08    15.91  "
      ]
     },
     "execution_count": 3,
     "metadata": {},
     "output_type": "execute_result"
    }
   ],
   "source": [
    "link = 'https://en.wikipedia.org/wiki/List_of_U.S._state_abbreviations'\n",
    "response = requests.get(link)\n",
    "soup1 = bs4.BeautifulSoup(response.text, 'html.parser')\n",
    "\n",
    "link = 'https://en.wikipedia.org/wiki/List_of_U.S._states_and_territories_by_African-American_population'\n",
    "response = requests.get(link)\n",
    "soup2 = bs4.BeautifulSoup(response.text, 'html.parser')\n",
    "\n",
    "table = soup1.find_all('table')[0] \n",
    "State = pd.read_html(str(table))[0]\n",
    "State = State.iloc[11:11+51,[0,5]]\n",
    "State = State.reset_index(drop=True)\n",
    "State.columns = ['State','USPS']\n",
    "\n",
    "# State.head(10).T\n",
    "\n",
    "table = soup2.find_all('table')[1]\n",
    "Demographics = pd.read_html(str(table))[0]\n",
    "Demographics = Demographics.iloc[:, [0,2]]\n",
    "Demographics.columns = ['Percent_Black', 'State']\n",
    "\n",
    "# Demographics.head(10).T\n",
    "\n",
    "df = pd.merge(State, Demographics, how='left', on='State')\n",
    "df.Percent_Black = df.Percent_Black.str.strip('%')\n",
    "df.Percent_Black = df.Percent_Black.astype(float)\n",
    "\n",
    "df.head(10).T"
   ]
  },
  {
   "cell_type": "markdown",
   "metadata": {},
   "source": [
    "### 3. Merge bias data `Iat` into demographic data `df`"
   ]
  },
  {
   "cell_type": "code",
   "execution_count": 4,
   "metadata": {
    "jupyter": {
     "source_hidden": true
    }
   },
   "outputs": [
    {
     "data": {
      "text/html": [
       "<div>\n",
       "<style scoped>\n",
       "    .dataframe tbody tr th:only-of-type {\n",
       "        vertical-align: middle;\n",
       "    }\n",
       "\n",
       "    .dataframe tbody tr th {\n",
       "        vertical-align: top;\n",
       "    }\n",
       "\n",
       "    .dataframe thead th {\n",
       "        text-align: right;\n",
       "    }\n",
       "</style>\n",
       "<table border=\"1\" class=\"dataframe\">\n",
       "  <thead>\n",
       "    <tr style=\"text-align: right;\">\n",
       "      <th></th>\n",
       "      <th>State</th>\n",
       "      <th>USPS</th>\n",
       "      <th>Percent_Black</th>\n",
       "      <th>Iat</th>\n",
       "    </tr>\n",
       "  </thead>\n",
       "  <tbody>\n",
       "    <tr>\n",
       "      <td>0</td>\n",
       "      <td>Alabama</td>\n",
       "      <td>AL</td>\n",
       "      <td>26.38</td>\n",
       "      <td>0.372316</td>\n",
       "    </tr>\n",
       "    <tr>\n",
       "      <td>1</td>\n",
       "      <td>Alaska</td>\n",
       "      <td>AK</td>\n",
       "      <td>4.27</td>\n",
       "      <td>0.330576</td>\n",
       "    </tr>\n",
       "    <tr>\n",
       "      <td>2</td>\n",
       "      <td>Arizona</td>\n",
       "      <td>AZ</td>\n",
       "      <td>4.16</td>\n",
       "      <td>0.349994</td>\n",
       "    </tr>\n",
       "    <tr>\n",
       "      <td>3</td>\n",
       "      <td>Arkansas</td>\n",
       "      <td>AR</td>\n",
       "      <td>15.76</td>\n",
       "      <td>0.346702</td>\n",
       "    </tr>\n",
       "    <tr>\n",
       "      <td>4</td>\n",
       "      <td>California</td>\n",
       "      <td>CA</td>\n",
       "      <td>6.67</td>\n",
       "      <td>0.324187</td>\n",
       "    </tr>\n",
       "  </tbody>\n",
       "</table>\n",
       "</div>"
      ],
      "text/plain": [
       "        State USPS  Percent_Black       Iat\n",
       "0     Alabama   AL          26.38  0.372316\n",
       "1      Alaska   AK           4.27  0.330576\n",
       "2     Arizona   AZ           4.16  0.349994\n",
       "3    Arkansas   AR          15.76  0.346702\n",
       "4  California   CA           6.67  0.324187"
      ]
     },
     "execution_count": 4,
     "metadata": {},
     "output_type": "execute_result"
    }
   ],
   "source": [
    "df = pd.merge(df, Iat, how='left', on='State')\n",
    "df.head()"
   ]
  },
  {
   "cell_type": "markdown",
   "metadata": {},
   "source": [
    "### 4. Regression"
   ]
  },
  {
   "cell_type": "code",
   "execution_count": null,
   "metadata": {},
   "outputs": [],
   "source": []
  },
  {
   "cell_type": "markdown",
   "metadata": {},
   "source": [
    "# Next Steps\n",
    "1. ~~Download sav file using `! curl` with redirect flag -L~~\n",
    "1. Scrape permalink for wiki demographics\n",
    "1. Redo using 2010 IAT data, to match demographics data's year"
   ]
  }
 ],
 "metadata": {
  "kernelspec": {
   "display_name": "Python 3",
   "language": "python",
   "name": "python3"
  },
  "language_info": {
   "codemirror_mode": {
    "name": "ipython",
    "version": 3
   },
   "file_extension": ".py",
   "mimetype": "text/x-python",
   "name": "python",
   "nbconvert_exporter": "python",
   "pygments_lexer": "ipython3",
   "version": "3.7.4"
  }
 },
 "nbformat": 4,
 "nbformat_minor": 4
}
